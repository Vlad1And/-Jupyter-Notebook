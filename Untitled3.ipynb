{
 "cells": [
  {
   "cell_type": "code",
   "execution_count": 32,
   "id": "e285cfa9-34f5-4f5a-9b5d-b063292eb77e",
   "metadata": {},
   "outputs": [],
   "source": [
    "import numpy as np\n"
   ]
  },
  {
   "cell_type": "code",
   "execution_count": 33,
   "id": "4dd58fd3-c312-4bc5-9974-e5b0a2603027",
   "metadata": {},
   "outputs": [
    {
     "name": "stdout",
     "output_type": "stream",
     "text": [
      "[[1 2 3]\n",
      " [4 5 6]]\n"
     ]
    }
   ],
   "source": [
    "C = np.array([1, 2, 3, 4, 5, 6])  \n",
    "C = C.reshape(2, 3)\n",
    "print(C)\n"
   ]
  },
  {
   "cell_type": "code",
   "execution_count": 34,
   "id": "492f2f50-e8f0-4577-a9ea-66a15c5344a2",
   "metadata": {},
   "outputs": [],
   "source": [
    "I = rng.integers(0, 10, size=(3, 4), endpoint=True)\n"
   ]
  },
  {
   "cell_type": "code",
   "execution_count": 35,
   "id": "6becbec1-6dae-4e10-8c8b-e74dcf74f3de",
   "metadata": {},
   "outputs": [
    {
     "name": "stdout",
     "output_type": "stream",
     "text": [
      "Сума всіх елементів:    21\n",
      "Добуток всіх елементів: 720\n",
      "Мінімальний елемент:    1\n",
      "Максимальний елемент:   6\n",
      "Середнє значення:       3.5\n",
      "Медіана:                3.5\n",
      "Дисперсія:              2.9166666666666665\n",
      "Відхилення:             1.707825127659933\n"
     ]
    }
   ],
   "source": [
    "# Для масиву C\n",
    "print(f\"Сума всіх елементів:    {C.sum()}\")\n",
    "print(f\"Добуток всіх елементів: {C.prod()}\")\n",
    "print(f\"Мінімальний елемент:    {C.min()}\")\n",
    "print(f\"Максимальний елемент:   {C.max()}\")\n",
    "print(f\"Середнє значення:       {C.mean()}\")\n",
    "print(f\"Медіана:                {np.median(C)}\")\n",
    "print(f\"Дисперсія:              {C.var()}\")\n",
    "print(f\"Відхилення:             {C.std()}\")\n"
   ]
  },
  {
   "cell_type": "code",
   "execution_count": 36,
   "id": "9e7c3425-4b84-4cfe-84c5-7fc38dd1a436",
   "metadata": {},
   "outputs": [
    {
     "name": "stdout",
     "output_type": "stream",
     "text": [
      "Сума елементів по стовпцях:         [5 7 9]\n",
      "Сума елементів по рядках:           [ 6 15]\n"
     ]
    }
   ],
   "source": [
    "C = C.reshape(2, 3)\n",
    "print(f\"Сума елементів по стовпцях:         {C.sum(axis=0)}\")\n",
    "print(f\"Сума елементів по рядках:           {C.sum(axis=1)}\")\n"
   ]
  },
  {
   "cell_type": "code",
   "execution_count": 37,
   "id": "c1f37497-9846-44c3-9cf4-fa5ac0eb7941",
   "metadata": {},
   "outputs": [],
   "source": [
    "def homework(message):\n",
    "    print(\"\\n>>>>>\", message, \"\\n\")\n"
   ]
  }
 ],
 "metadata": {
  "kernelspec": {
   "display_name": "Python 3 (ipykernel)",
   "language": "python",
   "name": "python3"
  },
  "language_info": {
   "codemirror_mode": {
    "name": "ipython",
    "version": 3
   },
   "file_extension": ".py",
   "mimetype": "text/x-python",
   "name": "python",
   "nbconvert_exporter": "python",
   "pygments_lexer": "ipython3",
   "version": "3.12.7"
  }
 },
 "nbformat": 4,
 "nbformat_minor": 5
}
